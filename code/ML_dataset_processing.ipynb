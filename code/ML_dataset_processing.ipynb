{
 "cells": [
  {
   "cell_type": "markdown",
   "metadata": {},
   "source": [
    "# Road Segmentation Model Dataset Preprocessing"
   ]
  },
  {
   "cell_type": "code",
   "execution_count": 2,
   "metadata": {},
   "outputs": [],
   "source": [
    "# import libraries and files\n",
    "import os\n",
    "from PIL import Image as I\n",
    "import numpy as np\n",
    "from pathlib import Path as P"
   ]
  },
  {
   "cell_type": "markdown",
   "metadata": {},
   "source": [
    "Create Folders"
   ]
  },
  {
   "cell_type": "code",
   "execution_count": 4,
   "metadata": {},
   "outputs": [],
   "source": [
    "train_sat_loc = os.path.join(P(os.path.realpath(\"__file__\")).parent.parent.parent, \"assets/preprocessed_ML_dataset/train/sat\")\n",
    "train_mask_loc = os.path.join(P(os.path.realpath(\"__file__\")).parent.parent.parent, \"assets/preprocessed_ML_dataset/train/mask\")\n",
    "test_sat_loc = os.path.join(P(os.path.realpath(\"__file__\")).parent.parent.parent, \"assets/preprocessed_ML_dataset/test/sat\")\n",
    "test_mask_loc = os.path.join(P(os.path.realpath(\"__file__\")).parent.parent.parent, \"assets/preprocessed_ML_dataset/test/mask\")\n",
    "valid_sat_loc = os.path.join(P(os.path.realpath(\"__file__\")).parent.parent.parent, \"assets/preprocessed_ML_dataset/valid/sat\")\n",
    "valid_mask_loc = os.path.join(P(os.path.realpath(\"__file__\")).parent.parent.parent, \"assets/preprocessed_ML_dataset/valid/mask\")\n",
    "\n",
    "loc = [train_sat_loc, train_mask_loc, test_sat_loc, test_mask_loc, valid_sat_loc, valid_mask_loc]\n",
    "\n",
    "for i in loc: \n",
    "    if not os.path.exists(i): os.makedirs(i)"
   ]
  },
  {
   "cell_type": "markdown",
   "metadata": {},
   "source": [
    "Original dataset location"
   ]
  },
  {
   "cell_type": "code",
   "execution_count": 5,
   "metadata": {},
   "outputs": [],
   "source": [
    "test_data_loc = os.path.join(P(os.path.realpath(\"__file__\")).parent.parent.parent.parent, \"CV/dataset massachusetts/archive/tiff/test\")\n",
    "test_labels_data_loc = os.path.join(P(os.path.realpath(\"__file__\")).parent.parent.parent.parent, \"CV/dataset massachusetts/archive/tiff/test_labels\")\n",
    "train_data_loc = os.path.join(P(os.path.realpath(\"__file__\")).parent.parent.parent.parent, \"CV/dataset massachusetts/archive/tiff/train\")\n",
    "train_labels_data_loc = os.path.join(P(os.path.realpath(\"__file__\")).parent.parent.parent.parent, \"CV/dataset massachusetts/archive/tiff/train_labels\")\n",
    "valid_data_loc = os.path.join(P(os.path.realpath(\"__file__\")).parent.parent.parent.parent, \"CV/dataset massachusetts/archive/tiff/val\")\n",
    "valid_labels_data_loc = os.path.join(P(os.path.realpath(\"__file__\")).parent.parent.parent.parent, \"CV/dataset massachusetts/archive/tiff/val_labels\")"
   ]
  },
  {
   "cell_type": "markdown",
   "metadata": {},
   "source": [
    "Original dataset files"
   ]
  },
  {
   "cell_type": "code",
   "execution_count": 6,
   "metadata": {},
   "outputs": [
    {
     "name": "stdout",
     "output_type": "stream",
     "text": [
      "Found 49 images as test sat images.\n",
      "Found 49 images as test masks.\n",
      "Found 1108 images as train sat images.\n",
      "Found 1108 images as train masks.\n",
      "Found 14 images as validation sat images.\n",
      "Found 14 images as validation masks.\n"
     ]
    }
   ],
   "source": [
    "test_files = os.listdir(test_data_loc)\n",
    "testLen = len(test_files)\n",
    "print(\"Found {} images as test sat images.\".format(testLen))\n",
    "\n",
    "test_labels_files = os.listdir(test_labels_data_loc)\n",
    "print(\"Found {} images as test masks.\".format(len(test_labels_files)))\n",
    "\n",
    "train_files = os.listdir(train_data_loc)\n",
    "trainLen = len(train_files)\n",
    "print(\"Found {} images as train sat images.\".format(trainLen))\n",
    "\n",
    "train_labels_files = os.listdir(train_labels_data_loc)\n",
    "print(\"Found {} images as train masks.\".format(len(train_labels_files)))\n",
    "\n",
    "valid_files = os.listdir(valid_data_loc)\n",
    "validLen = len(valid_files)\n",
    "print(\"Found {} images as validation sat images.\".format(validLen))\n",
    "\n",
    "valid_labels_files = os.listdir(valid_labels_data_loc)\n",
    "print(\"Found {} images as validation masks.\".format(len(valid_labels_files)))"
   ]
  },
  {
   "cell_type": "markdown",
   "metadata": {},
   "source": [
    "Function to convert image array to jpeg and save it at the desired location"
   ]
  },
  {
   "cell_type": "code",
   "execution_count": 7,
   "metadata": {},
   "outputs": [],
   "source": [
    "def save(imgArr, destination, savedImgs, format):\n",
    "    img = I.fromarray(imgArr)\n",
    "    img.save(destination + \"/\" + str(savedImgs + 1) + format)"
   ]
  },
  {
   "cell_type": "markdown",
   "metadata": {},
   "source": [
    "Function to split the dataset images and masks\n",
    "* We wish to split the sat-image and its mask of size 1500x1500 into 36 parts of size 256x256.\n",
    "* There will be a padding of 36 pixels on the left and bottom boundary parts\n",
    "* A lot of images in the dataset were partly empty/white, but their respective masks had roads markings in the empty region too. Those road markings will be removed too"
   ]
  },
  {
   "cell_type": "code",
   "execution_count": 8,
   "metadata": {},
   "outputs": [],
   "source": [
    "def splitterAndSaver(satimgpath, \n",
    "                    maskpath, \n",
    "                    satDestination, \n",
    "                    maskDestination, \n",
    "                    savedImgsAlready):\n",
    "                    \n",
    "    satimg = I.open(satimgpath)\n",
    "    satimg = satimg.convert(\"RGB\")\n",
    "    satimg = np.asarray(satimg)\n",
    "    mask = I.open(maskpath)\n",
    "    mask = mask.convert(\"RGB\")\n",
    "    mask = np.asarray(mask)\n",
    "    whitePixel = np.full((1, 3), 255, dtype = np.uint8)\n",
    "\n",
    "    i = 0\n",
    "    while i < 6:\n",
    "        j = 0\n",
    "        while j < 6:\n",
    "            newSatImg = np.full((256, 256, 3), 255, dtype = np.uint8) # complete white\n",
    "            newSatImgIsBlank = True  # flag variable\n",
    "            newMask = np.full((256, 256, 3), 0, dtype = np.uint8) # complete black\n",
    "            row = 0\n",
    "            while row < 256:\n",
    "                x = i * 256 + row               \n",
    "                if x == 1500: break\n",
    "                col = 0\n",
    "                while col < 256:\n",
    "                    y = j * 256 + col\n",
    "                    if y == 1500: break\n",
    "                    satpixel = satimg[x, y]  \n",
    "                    satpixelIsWhite = np.all(satpixel == whitePixel)\n",
    "                    maskpixel = mask[x, y]\n",
    "\n",
    "                    if not satpixelIsWhite: \n",
    "                        newSatImgIsBlank = False\n",
    "                        newSatImg[row, col] = satpixel\n",
    "                        newMask[row, col] = maskpixel\n",
    "                    col += 1\n",
    "                row += 1\n",
    "            j += 1\n",
    "            if not newSatImgIsBlank: \n",
    "                save(newSatImg, satDestination, savedImgsAlready, \".tiff\")\n",
    "                save(newMask, maskDestination, savedImgsAlready, \".tif\")\n",
    "                savedImgsAlready += 1\n",
    "        i += 1\n",
    "    return savedImgsAlready"
   ]
  },
  {
   "cell_type": "markdown",
   "metadata": {},
   "source": [
    "### Testing Dataset Images Splitting\n",
    "```savedImgsAlready``` is an integer denoting how many new images formed and saved. We won't save completely white/black images."
   ]
  },
  {
   "cell_type": "code",
   "execution_count": 7,
   "metadata": {},
   "outputs": [
    {
     "name": "stdout",
     "output_type": "stream",
     "text": [
      "10/98 sat-mask images split. Generated 180 sat-mask image pairs.\n",
      "20/98 sat-mask images split. Generated 360 sat-mask image pairs.\n",
      "30/98 sat-mask images split. Generated 540 sat-mask image pairs.\n",
      "40/98 sat-mask images split. Generated 720 sat-mask image pairs.\n",
      "50/98 sat-mask images split. Generated 900 sat-mask image pairs.\n",
      "60/98 sat-mask images split. Generated 1080 sat-mask image pairs.\n",
      "70/98 sat-mask images split. Generated 1260 sat-mask image pairs.\n",
      "80/98 sat-mask images split. Generated 1440 sat-mask image pairs.\n",
      "90/98 sat-mask images split. Generated 1620 sat-mask image pairs.\n",
      "98/98 sat-mask images split. Generated 1764 sat-mask image pairs.\n"
     ]
    }
   ],
   "source": [
    "savedImgsAlready = 0\n",
    "\n",
    "for i in range(testLen):\n",
    "    savedImgsAlready = splitterAndSaver(\n",
    "        satimgpath = os.path.join(test_data_loc, test_files[i]),\n",
    "        maskpath = os.path.join(test_labels_data_loc, test_labels_files[i]),\n",
    "        satDestination = test_sat_loc,\n",
    "        maskDestination = test_mask_loc,\n",
    "        savedImgsAlready = savedImgsAlready                    \n",
    "    )\n",
    "    if (i + 1) % 5 == 0: print(\"{}/{} sat-mask images split. Generated {} sat-mask image pairs.\".format(2 * (i + 1), 2 * testLen, savedImgsAlready))\n",
    "\n",
    "print(\"{}/{} sat-mask images split. Generated {} sat-mask image pairs.\".format(2 * testLen, 2 * testLen, savedImgsAlready))"
   ]
  },
  {
   "cell_type": "markdown",
   "metadata": {},
   "source": [
    "### Validation Dataset Images Splitting"
   ]
  },
  {
   "cell_type": "code",
   "execution_count": 8,
   "metadata": {},
   "outputs": [
    {
     "name": "stdout",
     "output_type": "stream",
     "text": [
      "10/28 sat-mask images split. Generated 180 sat-mask image pairs.\n",
      "20/28 sat-mask images split. Generated 360 sat-mask image pairs.\n",
      "28/28 sat-mask images split. Generated 504 sat-mask image pairs.\n"
     ]
    }
   ],
   "source": [
    "savedImgsAlready = 0\n",
    "\n",
    "for i in range(validLen):\n",
    "    savedImgsAlready = splitterAndSaver(\n",
    "        satimgpath = os.path.join(valid_data_loc, valid_files[i]),\n",
    "        maskpath = os.path.join(valid_labels_data_loc, valid_labels_files[i]),\n",
    "        satDestination = valid_sat_loc,\n",
    "        maskDestination = valid_mask_loc,\n",
    "        savedImgsAlready = savedImgsAlready                    \n",
    "    )\n",
    "    if (i + 1) % 5 == 0: print(\"{}/{} sat-mask images split. Generated {} sat-mask image pairs.\".format(2 * (i + 1), 2 * validLen, savedImgsAlready))\n",
    "\n",
    "print(\"{}/{} sat-mask images split. Generated {} sat-mask image pairs.\".format(2 * validLen, 2 * validLen, savedImgsAlready))"
   ]
  },
  {
   "cell_type": "markdown",
   "metadata": {},
   "source": [
    "### Training Dataset Images Splitting"
   ]
  },
  {
   "cell_type": "code",
   "execution_count": 9,
   "metadata": {},
   "outputs": [
    {
     "name": "stdout",
     "output_type": "stream",
     "text": [
      "200/2216 sat-mask images split. Generated 3288 sat-mask image pairs.\n",
      "400/2216 sat-mask images split. Generated 6689 sat-mask image pairs.\n",
      "600/2216 sat-mask images split. Generated 9495 sat-mask image pairs.\n",
      "800/2216 sat-mask images split. Generated 12512 sat-mask image pairs.\n",
      "1000/2216 sat-mask images split. Generated 15670 sat-mask image pairs.\n",
      "1200/2216 sat-mask images split. Generated 18923 sat-mask image pairs.\n",
      "1400/2216 sat-mask images split. Generated 22384 sat-mask image pairs.\n",
      "1600/2216 sat-mask images split. Generated 25731 sat-mask image pairs.\n",
      "1800/2216 sat-mask images split. Generated 29126 sat-mask image pairs.\n",
      "2000/2216 sat-mask images split. Generated 32488 sat-mask image pairs.\n",
      "2200/2216 sat-mask images split. Generated 35675 sat-mask image pairs.\n",
      "2216/2216 sat-mask images split. Generated 35868 sat-mask image pairs.\n"
     ]
    }
   ],
   "source": [
    "savedImgsAlready = 0\n",
    "\n",
    "for i in range(trainLen):\n",
    "    savedImgsAlready = splitterAndSaver(\n",
    "        satimgpath = os.path.join(train_data_loc, train_files[i]),\n",
    "        maskpath = os.path.join(train_labels_data_loc, train_labels_files[i]),\n",
    "        satDestination = train_sat_loc,\n",
    "        maskDestination = train_mask_loc,\n",
    "        savedImgsAlready = savedImgsAlready                    \n",
    "    )\n",
    "    if (i + 1) % 100 == 0: print(\"{}/{} sat-mask images split. Generated {} sat-mask image pairs.\".format(2 * (i + 1), 2 * trainLen, savedImgsAlready))\n",
    "\n",
    "print(\"{}/{} sat-mask images split. Generated {} sat-mask image pairs.\".format(2 * trainLen, 2 * trainLen, savedImgsAlready))"
   ]
  }
 ],
 "metadata": {
  "interpreter": {
   "hash": "32153c084996d9572cedb9305b36fa08b813f436bcda32a9dc94907ec5cee5f0"
  },
  "kernelspec": {
   "display_name": "Python 3.9.4 64-bit ('venv': venv)",
   "language": "python",
   "name": "python3"
  },
  "language_info": {
   "codemirror_mode": {
    "name": "ipython",
    "version": 3
   },
   "file_extension": ".py",
   "mimetype": "text/x-python",
   "name": "python",
   "nbconvert_exporter": "python",
   "pygments_lexer": "ipython3",
   "version": "3.9.4"
  },
  "orig_nbformat": 4
 },
 "nbformat": 4,
 "nbformat_minor": 2
}
